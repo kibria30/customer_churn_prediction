{
 "cells": [
  {
   "cell_type": "markdown",
   "id": "8a658821",
   "metadata": {},
   "source": [
    "## Coming soon......."
   ]
  }
 ],
 "metadata": {
  "language_info": {
   "name": "python"
  }
 },
 "nbformat": 4,
 "nbformat_minor": 5
}
